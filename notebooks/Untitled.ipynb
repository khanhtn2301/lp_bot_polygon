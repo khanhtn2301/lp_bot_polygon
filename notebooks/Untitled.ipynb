{
 "cells": [
  {
   "cell_type": "code",
   "execution_count": 1,
   "id": "3ae84019",
   "metadata": {},
   "outputs": [],
   "source": [
    "import os \n",
    "import sys\n",
    "ROOT = os.path.dirname(os.path.dirname(os.path.abspath(\"__file__\")))\n",
    "sys.path.insert(1, ROOT)\n",
    "\n",
    "from etl.collect_data_from_graph import *\n",
    "from etl.config import *\n"
   ]
  },
  {
   "cell_type": "code",
   "execution_count": 4,
   "id": "08a94fdd",
   "metadata": {},
   "outputs": [
    {
     "name": "stdout",
     "output_type": "stream",
     "text": [
      "Error retrieving, process the acquired data\n",
      "Error! does not have any data\n"
     ]
    }
   ],
   "source": [
    "DATA_TYPES = ['burns']\n",
    "FETCH_LATEST = True\n",
    "# TOKEN0 = 'WBTC'\n",
    "# TOKEN1 = 'WETH'\n",
    "# FEE_TIER = 3000\n",
    "pools = [\n",
    "    # ('WBTC', 'WETH', 500),\n",
    "    # ('WETH', 'USDT', 500),\n",
    "    # ('DAI', 'USDC', 500),\n",
    "    # ('USDC', 'USDT', 100),\n",
    "    # ('USDC', 'WETH', 500),\n",
    "    # ('USDC', 'WETH', 500),\n",
    "    # ('FRAX', 'USDC', 500),\n",
    "    # ('WETH', 'CRV', 10000),\n",
    "    # ('FTM', 'WETH', 10000),\n",
    "    # ('MATIC', 'WETH', 3000),\n",
    "    # ('WETH', 'USDT', 3000),\n",
    "    ('WBTC', 'WETH', 3000)\n",
    "]\n",
    "\n",
    "for TOKEN0, TOKEN1, FEE_TIER in pools:\n",
    "    graph_client = UniswapV3PolygonData()\n",
    "    if True:\n",
    "        for datatype in DATA_TYPES:\n",
    "            df = graph_client.get_historical_pool_data(pool_address='0xfe343675878100b344802a6763fd373fdeed07a4',\n",
    "                                                 data_type=\"burns\",\n",
    "                                                 query_str=THEGRAPH_QUERY_UNI_V3_POLY_BURNS,\n",
    "                                                 data_dict_fn=burns_v3_polygon_dict,\n",
    "                                                 timestamp_start=1621493990)"
   ]
  },
  {
   "cell_type": "code",
   "execution_count": 2,
   "id": "5985589f",
   "metadata": {},
   "outputs": [
    {
     "name": "stdout",
     "output_type": "stream",
     "text": [
      "https://api.polygonscan.com/api?module=contract&action=getabi&address=0xC36442b4a4522E871399CD717aBDD847Ab11FE88&apikey=QTKQR3PW5C9XNUWABHW13UT7F8JJZC7KWG\n"
     ]
    }
   ],
   "source": [
    "print(ABI_UNISWAP_CONTRACT_ENDPOINT)"
   ]
  },
  {
   "cell_type": "code",
   "execution_count": 7,
   "id": "39dd3295",
   "metadata": {},
   "outputs": [
    {
     "ename": "KeyError",
     "evalue": "'position'",
     "output_type": "error",
     "traceback": [
      "\u001b[1;31m---------------------------------------------------------------------------\u001b[0m",
      "\u001b[1;31mKeyError\u001b[0m                                  Traceback (most recent call last)",
      "Cell \u001b[1;32mIn [7], line 1\u001b[0m\n\u001b[1;32m----> 1\u001b[0m \u001b[43mmints_v3_polygon_dict\u001b[49m\u001b[43m(\u001b[49m\u001b[43m{\u001b[49m\u001b[38;5;124;43m'\u001b[39;49m\u001b[38;5;124;43mid\u001b[39;49m\u001b[38;5;124;43m'\u001b[39;49m\u001b[43m:\u001b[49m\u001b[43m \u001b[49m\u001b[38;5;124;43m'\u001b[39;49m\u001b[38;5;124;43m0x00a5915026e65267f01d1a4c6352bcad1e9facd349074afef01c619b930464946f010000\u001b[39;49m\u001b[38;5;124;43m'\u001b[39;49m\u001b[43m,\u001b[49m\u001b[43m \u001b[49m\u001b[38;5;124;43m'\u001b[39;49m\u001b[38;5;124;43mtimestamp\u001b[39;49m\u001b[38;5;124;43m'\u001b[39;49m\u001b[43m:\u001b[49m\u001b[43m \u001b[49m\u001b[38;5;124;43m'\u001b[39;49m\u001b[38;5;124;43m1640211665\u001b[39;49m\u001b[38;5;124;43m'\u001b[39;49m\u001b[43m,\u001b[49m\u001b[43m \u001b[49m\u001b[38;5;124;43m'\u001b[39;49m\u001b[38;5;124;43mhash\u001b[39;49m\u001b[38;5;124;43m'\u001b[39;49m\u001b[43m:\u001b[49m\u001b[43m \u001b[49m\u001b[38;5;124;43m'\u001b[39;49m\u001b[38;5;124;43m0x00a5915026e65267f01d1a4c6352bcad1e9facd349074afef01c619b93046494\u001b[39;49m\u001b[38;5;124;43m'\u001b[39;49m\u001b[43m,\u001b[49m\u001b[43m \u001b[49m\u001b[38;5;124;43m'\u001b[39;49m\u001b[38;5;124;43minputTokens\u001b[39;49m\u001b[38;5;124;43m'\u001b[39;49m\u001b[43m:\u001b[49m\u001b[43m \u001b[49m\u001b[43m[\u001b[49m\u001b[43m{\u001b[49m\u001b[38;5;124;43m'\u001b[39;49m\u001b[38;5;124;43mid\u001b[39;49m\u001b[38;5;124;43m'\u001b[39;49m\u001b[43m:\u001b[49m\u001b[43m \u001b[49m\u001b[38;5;124;43m'\u001b[39;49m\u001b[38;5;124;43m0x1bfd67037b42cf73acf2047067bd4f2c47d9bfd6\u001b[39;49m\u001b[38;5;124;43m'\u001b[39;49m\u001b[43m,\u001b[49m\u001b[43m \u001b[49m\u001b[38;5;124;43m'\u001b[39;49m\u001b[38;5;124;43msymbol\u001b[39;49m\u001b[38;5;124;43m'\u001b[39;49m\u001b[43m:\u001b[49m\u001b[43m \u001b[49m\u001b[38;5;124;43m'\u001b[39;49m\u001b[38;5;124;43mWBTC\u001b[39;49m\u001b[38;5;124;43m'\u001b[39;49m\u001b[43m,\u001b[49m\u001b[43m \u001b[49m\u001b[38;5;124;43m'\u001b[39;49m\u001b[38;5;124;43mname\u001b[39;49m\u001b[38;5;124;43m'\u001b[39;49m\u001b[43m:\u001b[49m\u001b[43m \u001b[49m\u001b[38;5;124;43m'\u001b[39;49m\u001b[38;5;124;43m(PoS) Wrapped BTC\u001b[39;49m\u001b[38;5;124;43m'\u001b[39;49m\u001b[43m,\u001b[49m\u001b[43m \u001b[49m\u001b[38;5;124;43m'\u001b[39;49m\u001b[38;5;124;43mdecimals\u001b[39;49m\u001b[38;5;124;43m'\u001b[39;49m\u001b[43m:\u001b[49m\u001b[43m \u001b[49m\u001b[38;5;241;43m8\u001b[39;49m\u001b[43m,\u001b[49m\u001b[43m \u001b[49m\u001b[38;5;124;43m'\u001b[39;49m\u001b[38;5;124;43mlastPriceUSD\u001b[39;49m\u001b[38;5;124;43m'\u001b[39;49m\u001b[43m:\u001b[49m\u001b[43m \u001b[49m\u001b[38;5;124;43m'\u001b[39;49m\u001b[38;5;124;43m27218.05175263917206010157576838868\u001b[39;49m\u001b[38;5;124;43m'\u001b[39;49m\u001b[43m}\u001b[49m\u001b[43m,\u001b[49m\u001b[43m \u001b[49m\u001b[43m{\u001b[49m\u001b[38;5;124;43m'\u001b[39;49m\u001b[38;5;124;43mid\u001b[39;49m\u001b[38;5;124;43m'\u001b[39;49m\u001b[43m:\u001b[49m\u001b[43m \u001b[49m\u001b[38;5;124;43m'\u001b[39;49m\u001b[38;5;124;43m0x7ceb23fd6bc0add59e62ac25578270cff1b9f619\u001b[39;49m\u001b[38;5;124;43m'\u001b[39;49m\u001b[43m,\u001b[49m\u001b[43m \u001b[49m\u001b[38;5;124;43m'\u001b[39;49m\u001b[38;5;124;43msymbol\u001b[39;49m\u001b[38;5;124;43m'\u001b[39;49m\u001b[43m:\u001b[49m\u001b[43m \u001b[49m\u001b[38;5;124;43m'\u001b[39;49m\u001b[38;5;124;43mWETH\u001b[39;49m\u001b[38;5;124;43m'\u001b[39;49m\u001b[43m,\u001b[49m\u001b[43m \u001b[49m\u001b[38;5;124;43m'\u001b[39;49m\u001b[38;5;124;43mname\u001b[39;49m\u001b[38;5;124;43m'\u001b[39;49m\u001b[43m:\u001b[49m\u001b[43m \u001b[49m\u001b[38;5;124;43m'\u001b[39;49m\u001b[38;5;124;43mWrapped Ether\u001b[39;49m\u001b[38;5;124;43m'\u001b[39;49m\u001b[43m,\u001b[49m\u001b[43m \u001b[49m\u001b[38;5;124;43m'\u001b[39;49m\u001b[38;5;124;43mdecimals\u001b[39;49m\u001b[38;5;124;43m'\u001b[39;49m\u001b[43m:\u001b[49m\u001b[43m \u001b[49m\u001b[38;5;241;43m18\u001b[39;49m\u001b[43m,\u001b[49m\u001b[43m \u001b[49m\u001b[38;5;124;43m'\u001b[39;49m\u001b[38;5;124;43mlastPriceUSD\u001b[39;49m\u001b[38;5;124;43m'\u001b[39;49m\u001b[43m:\u001b[49m\u001b[43m \u001b[49m\u001b[38;5;124;43m'\u001b[39;49m\u001b[38;5;124;43m1847.543647230047282720859113115809\u001b[39;49m\u001b[38;5;124;43m'\u001b[39;49m\u001b[43m}\u001b[49m\u001b[43m]\u001b[49m\u001b[43m,\u001b[49m\u001b[43m \u001b[49m\u001b[38;5;124;43m'\u001b[39;49m\u001b[38;5;124;43mamountUSD\u001b[39;49m\u001b[38;5;124;43m'\u001b[39;49m\u001b[43m:\u001b[49m\u001b[43m \u001b[49m\u001b[38;5;124;43m'\u001b[39;49m\u001b[38;5;124;43m1383.582709183491070840509787369189\u001b[39;49m\u001b[38;5;124;43m'\u001b[39;49m\u001b[43m,\u001b[49m\u001b[43m \u001b[49m\u001b[38;5;124;43m'\u001b[39;49m\u001b[38;5;124;43minputTokenAmounts\u001b[39;49m\u001b[38;5;124;43m'\u001b[39;49m\u001b[43m:\u001b[49m\u001b[43m \u001b[49m\u001b[43m[\u001b[49m\u001b[38;5;124;43m'\u001b[39;49m\u001b[38;5;124;43m2400872\u001b[39;49m\u001b[38;5;124;43m'\u001b[39;49m\u001b[43m,\u001b[49m\u001b[43m \u001b[49m\u001b[38;5;124;43m'\u001b[39;49m\u001b[38;5;124;43m345284028699650728\u001b[39;49m\u001b[38;5;124;43m'\u001b[39;49m\u001b[43m]\u001b[49m\u001b[43m,\u001b[49m\u001b[43m \u001b[49m\u001b[38;5;124;43m'\u001b[39;49m\u001b[38;5;124;43mtickUpper\u001b[39;49m\u001b[38;5;124;43m'\u001b[39;49m\u001b[43m:\u001b[49m\u001b[43m \u001b[49m\u001b[38;5;124;43m'\u001b[39;49m\u001b[38;5;124;43m255660\u001b[39;49m\u001b[38;5;124;43m'\u001b[39;49m\u001b[43m,\u001b[49m\u001b[43m \u001b[49m\u001b[38;5;124;43m'\u001b[39;49m\u001b[38;5;124;43mtickLower\u001b[39;49m\u001b[38;5;124;43m'\u001b[39;49m\u001b[43m:\u001b[49m\u001b[43m \u001b[49m\u001b[38;5;124;43m'\u001b[39;49m\u001b[38;5;124;43m254880\u001b[39;49m\u001b[38;5;124;43m'\u001b[39;49m\u001b[43m,\u001b[49m\u001b[43m \u001b[49m\u001b[38;5;124;43m'\u001b[39;49m\u001b[38;5;124;43maccount\u001b[39;49m\u001b[38;5;124;43m'\u001b[39;49m\u001b[43m:\u001b[49m\u001b[43m \u001b[49m\u001b[43m{\u001b[49m\u001b[38;5;124;43m'\u001b[39;49m\u001b[38;5;124;43mid\u001b[39;49m\u001b[38;5;124;43m'\u001b[39;49m\u001b[43m:\u001b[49m\u001b[43m \u001b[49m\u001b[38;5;124;43m'\u001b[39;49m\u001b[38;5;124;43m0x720195e472d4a029fa573e4c1745cfe8f6c89392\u001b[39;49m\u001b[38;5;124;43m'\u001b[39;49m\u001b[43m}\u001b[49m\u001b[43m}\u001b[49m\u001b[43m)\u001b[49m\n",
      "File \u001b[1;32m~\\Documents\\lp_bot_polygon\\etl\\config.py:120\u001b[0m, in \u001b[0;36mmints_v3_polygon_dict\u001b[1;34m(data_el)\u001b[0m\n\u001b[0;32m    117\u001b[0m \u001b[38;5;28;01mdef\u001b[39;00m \u001b[38;5;21mmints_v3_polygon_dict\u001b[39m(data_el):\n\u001b[0;32m    118\u001b[0m     data_dict \u001b[38;5;241m=\u001b[39m {\n\u001b[0;32m    119\u001b[0m         \u001b[38;5;124m'\u001b[39m\u001b[38;5;124mid\u001b[39m\u001b[38;5;124m'\u001b[39m: data_el[\u001b[38;5;124m'\u001b[39m\u001b[38;5;124mid\u001b[39m\u001b[38;5;124m'\u001b[39m],\n\u001b[1;32m--> 120\u001b[0m         \u001b[38;5;124m'\u001b[39m\u001b[38;5;124mtransaction_id\u001b[39m\u001b[38;5;124m'\u001b[39m: \u001b[43mdata_el\u001b[49m\u001b[43m[\u001b[49m\u001b[38;5;124;43m'\u001b[39;49m\u001b[38;5;124;43mposition\u001b[39;49m\u001b[38;5;124;43m'\u001b[39;49m\u001b[43m]\u001b[49m[\u001b[38;5;124m'\u001b[39m\u001b[38;5;124mid\u001b[39m\u001b[38;5;124m'\u001b[39m],\n\u001b[0;32m    121\u001b[0m         \u001b[38;5;124m'\u001b[39m\u001b[38;5;124mhash\u001b[39m\u001b[38;5;124m'\u001b[39m: data_el[\u001b[38;5;124m'\u001b[39m\u001b[38;5;124mhash\u001b[39m\u001b[38;5;124m'\u001b[39m],\n\u001b[0;32m    122\u001b[0m         \u001b[38;5;124m'\u001b[39m\u001b[38;5;124mowner\u001b[39m\u001b[38;5;124m'\u001b[39m: data_el[\u001b[38;5;124m'\u001b[39m\u001b[38;5;124maccount\u001b[39m\u001b[38;5;124m'\u001b[39m][\u001b[38;5;124m'\u001b[39m\u001b[38;5;124mid\u001b[39m\u001b[38;5;124m'\u001b[39m],\n\u001b[0;32m    123\u001b[0m         \u001b[38;5;124m'\u001b[39m\u001b[38;5;124mtimestamp\u001b[39m\u001b[38;5;124m'\u001b[39m: data_el[\u001b[38;5;124m'\u001b[39m\u001b[38;5;124mtimestamp\u001b[39m\u001b[38;5;124m'\u001b[39m],\n\u001b[0;32m    124\u001b[0m         \u001b[38;5;124m'\u001b[39m\u001b[38;5;124mtoken0_id\u001b[39m\u001b[38;5;124m'\u001b[39m: data_el[\u001b[38;5;124m'\u001b[39m\u001b[38;5;124minputTokens\u001b[39m\u001b[38;5;124m'\u001b[39m][\u001b[38;5;241m0\u001b[39m][\u001b[38;5;124m'\u001b[39m\u001b[38;5;124mid\u001b[39m\u001b[38;5;124m'\u001b[39m],\n\u001b[0;32m    125\u001b[0m         \u001b[38;5;124m'\u001b[39m\u001b[38;5;124mtoken0_symbol\u001b[39m\u001b[38;5;124m'\u001b[39m: data_el[\u001b[38;5;124m'\u001b[39m\u001b[38;5;124minputTokens\u001b[39m\u001b[38;5;124m'\u001b[39m][\u001b[38;5;241m0\u001b[39m][\u001b[38;5;124m'\u001b[39m\u001b[38;5;124msymbol\u001b[39m\u001b[38;5;124m'\u001b[39m],\n\u001b[0;32m    126\u001b[0m         \u001b[38;5;124m'\u001b[39m\u001b[38;5;124mtoken0_priceUSD\u001b[39m\u001b[38;5;124m'\u001b[39m: \u001b[38;5;28mfloat\u001b[39m(data_el[\u001b[38;5;124m'\u001b[39m\u001b[38;5;124minputTokens\u001b[39m\u001b[38;5;124m'\u001b[39m][\u001b[38;5;241m0\u001b[39m][\u001b[38;5;124m'\u001b[39m\u001b[38;5;124mlastPriceUSD\u001b[39m\u001b[38;5;124m'\u001b[39m]),\n\u001b[0;32m    127\u001b[0m         \u001b[38;5;124m'\u001b[39m\u001b[38;5;124mtoken1_id\u001b[39m\u001b[38;5;124m'\u001b[39m: data_el[\u001b[38;5;124m'\u001b[39m\u001b[38;5;124minputTokens\u001b[39m\u001b[38;5;124m'\u001b[39m][\u001b[38;5;241m1\u001b[39m][\u001b[38;5;124m'\u001b[39m\u001b[38;5;124mid\u001b[39m\u001b[38;5;124m'\u001b[39m],\n\u001b[0;32m    128\u001b[0m         \u001b[38;5;124m'\u001b[39m\u001b[38;5;124mtoken1_symbol\u001b[39m\u001b[38;5;124m'\u001b[39m: data_el[\u001b[38;5;124m'\u001b[39m\u001b[38;5;124minputTokens\u001b[39m\u001b[38;5;124m'\u001b[39m][\u001b[38;5;241m1\u001b[39m][\u001b[38;5;124m'\u001b[39m\u001b[38;5;124msymbol\u001b[39m\u001b[38;5;124m'\u001b[39m],\n\u001b[0;32m    129\u001b[0m         \u001b[38;5;124m'\u001b[39m\u001b[38;5;124mtoken1_priceUSD\u001b[39m\u001b[38;5;124m'\u001b[39m: \u001b[38;5;28mfloat\u001b[39m(data_el[\u001b[38;5;124m'\u001b[39m\u001b[38;5;124minputTokens\u001b[39m\u001b[38;5;124m'\u001b[39m][\u001b[38;5;241m1\u001b[39m][\u001b[38;5;124m'\u001b[39m\u001b[38;5;124mlastPriceUSD\u001b[39m\u001b[38;5;124m'\u001b[39m]),\n\u001b[0;32m    130\u001b[0m         \u001b[38;5;124m'\u001b[39m\u001b[38;5;124mamount0\u001b[39m\u001b[38;5;124m'\u001b[39m: \u001b[38;5;28mfloat\u001b[39m(data_el[\u001b[38;5;124m'\u001b[39m\u001b[38;5;124minputTokenAmounts\u001b[39m\u001b[38;5;124m'\u001b[39m][\u001b[38;5;241m0\u001b[39m]),\n\u001b[0;32m    131\u001b[0m         \u001b[38;5;124m'\u001b[39m\u001b[38;5;124mamount1\u001b[39m\u001b[38;5;124m'\u001b[39m: \u001b[38;5;28mfloat\u001b[39m(data_el[\u001b[38;5;124m'\u001b[39m\u001b[38;5;124minputTokenAmounts\u001b[39m\u001b[38;5;124m'\u001b[39m][\u001b[38;5;241m1\u001b[39m]),\n\u001b[0;32m    132\u001b[0m         \u001b[38;5;124m'\u001b[39m\u001b[38;5;124mamountUSD\u001b[39m\u001b[38;5;124m'\u001b[39m: \u001b[38;5;28mfloat\u001b[39m(data_el[\u001b[38;5;124m'\u001b[39m\u001b[38;5;124mamountUSD\u001b[39m\u001b[38;5;124m'\u001b[39m]),\n\u001b[0;32m    133\u001b[0m         \u001b[38;5;124m'\u001b[39m\u001b[38;5;124mtickLower\u001b[39m\u001b[38;5;124m'\u001b[39m: \u001b[38;5;28mint\u001b[39m(data_el[\u001b[38;5;124m'\u001b[39m\u001b[38;5;124mtickLower\u001b[39m\u001b[38;5;124m'\u001b[39m]),\n\u001b[0;32m    134\u001b[0m         \u001b[38;5;124m'\u001b[39m\u001b[38;5;124mtickUpper\u001b[39m\u001b[38;5;124m'\u001b[39m: \u001b[38;5;28mint\u001b[39m(data_el[\u001b[38;5;124m'\u001b[39m\u001b[38;5;124mtickUpper\u001b[39m\u001b[38;5;124m'\u001b[39m])\n\u001b[0;32m    135\u001b[0m     }\n\u001b[0;32m    137\u001b[0m     \u001b[38;5;28;01mreturn\u001b[39;00m data_dict\n",
      "\u001b[1;31mKeyError\u001b[0m: 'position'"
     ]
    }
   ],
   "source": [
    "mints_v3_polygon_dict({'id': '0x00a5915026e65267f01d1a4c6352bcad1e9facd349074afef01c619b930464946f010000', 'timestamp': '1640211665', 'hash': '0x00a5915026e65267f01d1a4c6352bcad1e9facd349074afef01c619b93046494', 'inputTokens': [{'id': '0x1bfd67037b42cf73acf2047067bd4f2c47d9bfd6', 'symbol': 'WBTC', 'name': '(PoS) Wrapped BTC', 'decimals': 8, 'lastPriceUSD': '27218.05175263917206010157576838868'}, {'id': '0x7ceb23fd6bc0add59e62ac25578270cff1b9f619', 'symbol': 'WETH', 'name': 'Wrapped Ether', 'decimals': 18, 'lastPriceUSD': '1847.543647230047282720859113115809'}], 'amountUSD': '1383.582709183491070840509787369189', 'inputTokenAmounts': ['2400872', '345284028699650728'], 'tickUpper': '255660', 'tickLower': '254880', 'account': {'id': '0x720195e472d4a029fa573e4c1745cfe8f6c89392'}})"
   ]
  },
  {
   "cell_type": "code",
   "execution_count": 2,
   "id": "92a05e56",
   "metadata": {},
   "outputs": [],
   "source": [
    "w3, contract = get_contract_abi_from_polygonscan()"
   ]
  },
  {
   "cell_type": "code",
   "execution_count": 3,
   "id": "46ce0f6c",
   "metadata": {},
   "outputs": [],
   "source": [
    "tx_receipt = w3.eth.wait_for_transaction_receipt('0xe1657e06ccab108acbd3df6634ced395c4c53bce10512c96feb30821184acb13')"
   ]
  },
  {
   "cell_type": "code",
   "execution_count": 5,
   "id": "9474dd29",
   "metadata": {},
   "outputs": [
    {
     "data": {
      "text/plain": [
       "'https://rpc.ankr.com/polygon/{API_KEY_APC_ANKR}'"
      ]
     },
     "execution_count": 5,
     "metadata": {},
     "output_type": "execute_result"
    }
   ],
   "source": [
    "W3_ENDPOINT"
   ]
  },
  {
   "cell_type": "code",
   "execution_count": 4,
   "id": "8fbc15f3",
   "metadata": {},
   "outputs": [],
   "source": [
    "df = pd.DataFrame()\n",
    "df[['1', '2']] = [(1, 2), (3, 4)]"
   ]
  },
  {
   "cell_type": "code",
   "execution_count": 5,
   "id": "92257396",
   "metadata": {},
   "outputs": [
    {
     "data": {
      "text/html": [
       "<div>\n",
       "<style scoped>\n",
       "    .dataframe tbody tr th:only-of-type {\n",
       "        vertical-align: middle;\n",
       "    }\n",
       "\n",
       "    .dataframe tbody tr th {\n",
       "        vertical-align: top;\n",
       "    }\n",
       "\n",
       "    .dataframe thead th {\n",
       "        text-align: right;\n",
       "    }\n",
       "</style>\n",
       "<table border=\"1\" class=\"dataframe\">\n",
       "  <thead>\n",
       "    <tr style=\"text-align: right;\">\n",
       "      <th></th>\n",
       "      <th>1</th>\n",
       "      <th>2</th>\n",
       "    </tr>\n",
       "  </thead>\n",
       "  <tbody>\n",
       "    <tr>\n",
       "      <th>0</th>\n",
       "      <td>1</td>\n",
       "      <td>2</td>\n",
       "    </tr>\n",
       "    <tr>\n",
       "      <th>1</th>\n",
       "      <td>3</td>\n",
       "      <td>4</td>\n",
       "    </tr>\n",
       "  </tbody>\n",
       "</table>\n",
       "</div>"
      ],
      "text/plain": [
       "   1  2\n",
       "0  1  2\n",
       "1  3  4"
      ]
     },
     "execution_count": 5,
     "metadata": {},
     "output_type": "execute_result"
    }
   ],
   "source": [
    "df"
   ]
  },
  {
   "cell_type": "code",
   "execution_count": 6,
   "id": "5a8359a2",
   "metadata": {},
   "outputs": [
    {
     "data": {
      "text/plain": [
       "[1, 23, 3, 32, 4]"
      ]
     },
     "execution_count": 6,
     "metadata": {},
     "output_type": "execute_result"
    }
   ],
   "source": [
    "[1,23,3] + [32,4]"
   ]
  },
  {
   "cell_type": "code",
   "execution_count": null,
   "id": "88bad215",
   "metadata": {},
   "outputs": [],
   "source": []
  }
 ],
 "metadata": {
  "kernelspec": {
   "display_name": "Python 3 (ipykernel)",
   "language": "python",
   "name": "python3"
  },
  "language_info": {
   "codemirror_mode": {
    "name": "ipython",
    "version": 3
   },
   "file_extension": ".py",
   "mimetype": "text/x-python",
   "name": "python",
   "nbconvert_exporter": "python",
   "pygments_lexer": "ipython3",
   "version": "3.10.4"
  }
 },
 "nbformat": 4,
 "nbformat_minor": 5
}
