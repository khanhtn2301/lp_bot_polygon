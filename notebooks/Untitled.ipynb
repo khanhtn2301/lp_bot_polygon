{
 "cells": [
  {
   "cell_type": "code",
   "execution_count": 1,
   "id": "3ae84019",
   "metadata": {},
   "outputs": [
    {
     "name": "stdout",
     "output_type": "stream",
     "text": [
      "[-76450, -76440, 163329223006687998958276, 3731739168686551200000, 0]\n",
      "[50460, 53220, 27058087, 0, 49903844]\n"
     ]
    }
   ],
   "source": [
    "import os \n",
    "import sys\n",
    "ROOT = os.path.dirname(os.path.dirname(os.path.abspath(\"__file__\")))\n",
    "sys.path.insert(1, ROOT)\n",
    "\n",
    "from etl.collect_data_from_graph import *\n",
    "from etl.config import *\n",
    "\n",
    "w3, contract = get_contract_abi_from_polygonscan()\n",
    "print(get_tick_range_from_hash(w3, '0x882629425582795466e9d90fae487540a9f7e76b55f88775cb4cdd976d46b7fe', 'mint'))\n",
    "print(get_tick_range_from_hash(w3, '0x000000dad3f73302e3c29b529aab306a606e9b48e603ce4ca41fc10d174982bd', 'burn'))"
   ]
  }
 ],
 "metadata": {
  "kernelspec": {
   "display_name": "Python 3 (ipykernel)",
   "language": "python",
   "name": "python3"
  },
  "language_info": {
   "codemirror_mode": {
    "name": "ipython",
    "version": 3
   },
   "file_extension": ".py",
   "mimetype": "text/x-python",
   "name": "python",
   "nbconvert_exporter": "python",
   "pygments_lexer": "ipython3",
   "version": "3.10.7"
  }
 },
 "nbformat": 4,
 "nbformat_minor": 5
}
